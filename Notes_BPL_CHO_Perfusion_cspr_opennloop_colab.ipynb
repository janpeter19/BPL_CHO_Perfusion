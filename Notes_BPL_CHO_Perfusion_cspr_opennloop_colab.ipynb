{
  "nbformat": 4,
  "nbformat_minor": 0,
  "metadata": {
    "colab": {
      "provenance": [],
      "authorship_tag": "ABX9TyOQWbnb8UDGznwXEoPuW/jU",
      "include_colab_link": true
    },
    "kernelspec": {
      "name": "python3",
      "display_name": "Python 3"
    },
    "language_info": {
      "name": "python"
    }
  },
  "cells": [
    {
      "cell_type": "markdown",
      "metadata": {
        "id": "view-in-github",
        "colab_type": "text"
      },
      "source": [
        "<a href=\"https://colab.research.google.com/github/janpeter19/BPL_CHO_Perfusion/blob/main/Notes_BPL_CHO_Perfusion_cspr_opennloop_colab.ipynb\" target=\"_parent\"><img src=\"https://colab.research.google.com/assets/colab-badge.svg\" alt=\"Open In Colab\"/></a>"
      ]
    },
    {
      "cell_type": "markdown",
      "source": [
        "# BPL_CHO_Perfusion_cspr_openloop script with PyFMI\n",
        "\n",
        "The key library PyFMI is installed.\n",
        "\n",
        "After the installation a small application BPL_CHO_Pefusion_cspr_openloop is loaded and run. You can continue with this example if you like."
      ],
      "metadata": {
        "id": "UFcMzs4Y3HwH"
      }
    },
    {
      "cell_type": "code",
      "execution_count": null,
      "metadata": {
        "colab": {
          "base_uri": "https://localhost:8080/"
        },
        "id": "ID68dwep2zus",
        "outputId": "11c1a598-4892-4733-f038-c2ae01ed49c6"
      },
      "outputs": [
        {
          "output_type": "stream",
          "name": "stdout",
          "text": [
            "No LSB modules are available.\n",
            "Distributor ID:\tUbuntu\n",
            "Description:\tUbuntu 22.04.3 LTS\n",
            "Release:\t22.04\n",
            "Codename:\tjammy\n"
          ]
        }
      ],
      "source": [
        "!lsb_release -a # Actual VM Ubuntu version used by Google"
      ]
    },
    {
      "cell_type": "code",
      "source": [
        "%env PYTHONPATH="
      ],
      "metadata": {
        "colab": {
          "base_uri": "https://localhost:8080/"
        },
        "id": "pVDcSg-j3SSV",
        "outputId": "c0303b42-fcc4-4299-acb5-9d3a8c8e136a"
      },
      "execution_count": null,
      "outputs": [
        {
          "output_type": "stream",
          "name": "stdout",
          "text": [
            "env: PYTHONPATH=\n"
          ]
        }
      ]
    },
    {
      "cell_type": "code",
      "source": [
        "!wget https://repo.anaconda.com/miniconda/Miniconda3-py310_23.1.0-1-Linux-x86_64.sh\n",
        "!chmod +x Miniconda3-py310_23.1.0-1-Linux-x86_64.sh\n",
        "!bash ./Miniconda3-py310_23.1.0-1-Linux-x86_64.sh -b -f -p /usr/local\n",
        "import sys\n",
        "sys.path.append('/usr/local/lib/python3.10/site-packages/')"
      ],
      "metadata": {
        "colab": {
          "base_uri": "https://localhost:8080/"
        },
        "id": "04VeBmLU3UFx",
        "outputId": "2640c8be-3157-4fb5-8f6a-e00fc767ca04"
      },
      "execution_count": null,
      "outputs": [
        {
          "output_type": "stream",
          "name": "stdout",
          "text": [
            "--2024-05-24 09:44:09--  https://repo.anaconda.com/miniconda/Miniconda3-py312_24.3.0-0-Linux-x86_64.sh\n",
            "Resolving repo.anaconda.com (repo.anaconda.com)... 104.16.32.241, 104.16.191.158, 2606:4700::6810:20f1, ...\n",
            "Connecting to repo.anaconda.com (repo.anaconda.com)|104.16.32.241|:443... connected.\n",
            "HTTP request sent, awaiting response... 200 OK\n",
            "Length: 143351488 (137M) [application/octet-stream]\n",
            "Saving to: ‘Miniconda3-py312_24.3.0-0-Linux-x86_64.sh’\n",
            "\n",
            "Miniconda3-py312_24 100%[===================>] 136.71M   168MB/s    in 0.8s    \n",
            "\n",
            "2024-05-24 09:44:09 (168 MB/s) - ‘Miniconda3-py312_24.3.0-0-Linux-x86_64.sh’ saved [143351488/143351488]\n",
            "\n",
            "PREFIX=/usr/local\n",
            "Unpacking payload ...\n",
            "\n",
            "Installing base environment...\n",
            "\n",
            "Preparing transaction: ...working... done\n",
            "Executing transaction: ...working... done\n",
            "installation finished.\n"
          ]
        }
      ]
    },
    {
      "cell_type": "code",
      "source": [
        "!conda update -n base -c defaults conda --yes"
      ],
      "metadata": {
        "colab": {
          "base_uri": "https://localhost:8080/"
        },
        "id": "5iuP4_vl3WFA",
        "outputId": "38234387-db18-4c6e-a3d8-447138e6331a"
      },
      "execution_count": null,
      "outputs": [
        {
          "output_type": "stream",
          "name": "stdout",
          "text": [
            "Channels:\n",
            " - defaults\n",
            "Platform: linux-64\n",
            "Collecting package metadata (repodata.json): - \b\b\\ \b\b| \b\b/ \b\b- \b\b\\ \b\b| \b\b/ \b\b- \b\b\\ \b\b| \b\b/ \b\b- \b\b\\ \b\b| \b\b/ \b\b- \b\bdone\n",
            "Solving environment: | \b\b/ \b\bdone\n",
            "\n",
            "## Package Plan ##\n",
            "\n",
            "  environment location: /usr/local\n",
            "\n",
            "  added / updated specs:\n",
            "    - conda\n",
            "\n",
            "\n",
            "The following packages will be downloaded:\n",
            "\n",
            "    package                    |            build\n",
            "    ---------------------------|-----------------\n",
            "    conda-24.5.0               |  py312h06a4308_0         1.2 MB\n",
            "    frozendict-2.4.2           |  py312h06a4308_0          36 KB\n",
            "    openssl-3.0.13             |       h7f8727e_2         5.2 MB\n",
            "    ------------------------------------------------------------\n",
            "                                           Total:         6.5 MB\n",
            "\n",
            "The following NEW packages will be INSTALLED:\n",
            "\n",
            "  frozendict         pkgs/main/linux-64::frozendict-2.4.2-py312h06a4308_0 \n",
            "\n",
            "The following packages will be UPDATED:\n",
            "\n",
            "  conda                              24.3.0-py312h06a4308_0 --> 24.5.0-py312h06a4308_0 \n",
            "  openssl                                 3.0.13-h7f8727e_0 --> 3.0.13-h7f8727e_2 \n",
            "\n",
            "\n",
            "\n",
            "Downloading and Extracting Packages:\n",
            "openssl-3.0.13       | 5.2 MB    | :   0% 0/1 [00:00<?, ?it/s]\n",
            "conda-24.5.0         | 1.2 MB    | :   0% 0/1 [00:00<?, ?it/s]\u001b[A\n",
            "\n",
            "frozendict-2.4.2     | 36 KB     | :   0% 0/1 [00:00<?, ?it/s]\u001b[A\u001b[A\n",
            "openssl-3.0.13       | 5.2 MB    | :   0% 0.002992912657148922/1 [00:00<00:57, 58.11s/it]\n",
            "\n",
            "frozendict-2.4.2     | 36 KB     | :  44% 0.43853215920344746/1 [00:00<00:00,  2.44it/s]\u001b[A\u001b[A\n",
            "\n",
            "openssl-3.0.13       | 5.2 MB    | :  92% 0.921817098401868/1 [00:00<00:00,  4.15it/s]   \n",
            "conda-24.5.0         | 1.2 MB    | : 100% 1.0/1 [00:00<00:00,  1.78it/s]                \u001b[A\n",
            "                                                                        \n",
            "                                                                        \u001b[A\n",
            "\n",
            "                                                                        \u001b[A\u001b[A\n",
            "Preparing transaction: \\ \b\bdone\n",
            "Verifying transaction: / \b\b- \b\b\\ \b\bdone\n",
            "Executing transaction: / \b\b- \b\bdone\n"
          ]
        }
      ]
    },
    {
      "cell_type": "code",
      "source": [
        "!conda --version\n",
        "!python --version"
      ],
      "metadata": {
        "colab": {
          "base_uri": "https://localhost:8080/"
        },
        "id": "uoBMBSS63Z58",
        "outputId": "34472ef4-c1b6-45c4-f3cb-22cccb0bfcaf"
      },
      "execution_count": null,
      "outputs": [
        {
          "output_type": "stream",
          "name": "stdout",
          "text": [
            "conda 24.5.0\n",
            "Python 3.12.2\n"
          ]
        }
      ]
    },
    {
      "cell_type": "code",
      "source": [
        "!conda install -c conda-forge pyfmi --yes # Install the key package"
      ],
      "metadata": {
        "colab": {
          "base_uri": "https://localhost:8080/"
        },
        "id": "RMuJRdfH3dDq",
        "outputId": "5aab8053-3f5b-417c-8f45-6a4796b03a26"
      },
      "execution_count": null,
      "outputs": [
        {
          "output_type": "stream",
          "name": "stdout",
          "text": [
            "Channels:\n",
            " - conda-forge\n",
            " - defaults\n",
            "Platform: linux-64\n",
            "Collecting package metadata (repodata.json): - \b\b\\ \b\b| \b\b/ \b\b- \b\b\\ \b\b| \b\b/ \b\b- \b\b\\ \b\b| \b\b/ \b\b- \b\b\\ \b\b| \b\b/ \b\b- \b\b\\ \b\b| \b\b/ \b\b- \b\b\\ \b\b| \b\b/ \b\b- \b\b\\ \b\b| \b\b/ \b\b- \b\b\\ \b\bdone\n",
            "Solving environment: / \b\b- \u001b[33m\u001b[1mwarning  libmamba\u001b[m Added empty dependency for problem type SOLVER_RULE_UPDATE\n",
            "\b\b\\ \b\b| \b\b/ \b\b- \b\b\\ \b\b| \b\bfailed\n",
            "\n",
            "LibMambaUnsatisfiableError: Encountered problems while solving:\n",
            "  - package pyfmi-2.3.1-np110py27_0 requires python 2.7*, but none of the providers can be installed\n",
            "\n",
            "Could not solve for environment specs\n",
            "The following packages are incompatible\n",
            "├─ \u001b[32mpin-1\u001b[0m is installable and it requires\n",
            "│  └─ \u001b[32mpython 3.12.* \u001b[0m, which can be installed;\n",
            "└─ \u001b[31mpyfmi\u001b[0m is not installable because there are no viable options\n",
            "   ├─ \u001b[31mpyfmi [2.3.1|2.4.0|...|2.6]\u001b[0m would require\n",
            "   │  └─ \u001b[31mpython [2.7* |>=2.7,<2.8.0a0 ]\u001b[0m, which conflicts with any installable versions previously reported;\n",
            "   ├─ \u001b[31mpyfmi 2.3.1\u001b[0m would require\n",
            "   │  └─ \u001b[31mpython 3.4* \u001b[0m, which conflicts with any installable versions previously reported;\n",
            "   ├─ \u001b[31mpyfmi [2.3.1|2.4.0]\u001b[0m would require\n",
            "   │  └─ \u001b[31mpython [3.5* |>=3.5,<3.6.0a0 ]\u001b[0m, which conflicts with any installable versions previously reported;\n",
            "   ├─ \u001b[31mpyfmi [2.3.1|2.4.0]\u001b[0m would require\n",
            "   │  └─ \u001b[31mpython 3.6* \u001b[0m, which conflicts with any installable versions previously reported;\n",
            "   ├─ \u001b[31mpyfmi [2.4.0|2.5|...|2.9.3]\u001b[0m would require\n",
            "   │  └─ \u001b[31mpython >=3.6,<3.7.0a0 \u001b[0m, which conflicts with any installable versions previously reported;\n",
            "   ├─ \u001b[31mpyfmi [2.4.0|2.5|...|2.9.8]\u001b[0m would require\n",
            "   │  └─ \u001b[31mpython >=3.7,<3.8.0a0 \u001b[0m, which conflicts with any installable versions previously reported;\n",
            "   ├─ \u001b[31mpyfmi [2.10|2.10.2|...|2.9.8]\u001b[0m would require\n",
            "   │  └─ \u001b[31mpython >=3.8,<3.9.0a0 \u001b[0m, which conflicts with any installable versions previously reported;\n",
            "   ├─ \u001b[31mpyfmi [2.10|2.10.2|...|2.9.8]\u001b[0m would require\n",
            "   │  └─ \u001b[31mpython >=3.9,<3.10.0a0 \u001b[0m, which conflicts with any installable versions previously reported;\n",
            "   ├─ \u001b[31mpyfmi [2.10|2.10.2|...|2.9.8]\u001b[0m would require\n",
            "   │  └─ \u001b[31mpython >=3.10,<3.11.0a0 \u001b[0m, which conflicts with any installable versions previously reported;\n",
            "   └─ \u001b[31mpyfmi [2.10|2.10.2|...|2.9.8]\u001b[0m would require\n",
            "      └─ \u001b[31mpython >=3.11,<3.12.0a0 \u001b[0m, which conflicts with any installable versions previously reported.\n",
            "\n"
          ]
        }
      ]
    },
    {
      "cell_type": "markdown",
      "source": [
        "# BPL_CHO_Perfusion_cspr_openloop setup\n"
      ],
      "metadata": {
        "id": "UTETJm3l6heL"
      }
    },
    {
      "cell_type": "markdown",
      "source": [
        "Now specific installation and the run simulations. Start with connecting to Github. Then upload the two files:\n",
        "\n",
        "* FMU - BPL_CHO_Perfusion_cspr_openloop_linux_om_me.fmu\n",
        "* Setup-file - BPL_CHO_Perfusion_cspr_openloop_explore"
      ],
      "metadata": {
        "id": "mxILgQ103nZ6"
      }
    },
    {
      "cell_type": "code",
      "source": [
        "# Filter out DepracationWarnings for 'np.float as alias' is needed - wish I could make filter more narrow\n",
        "import warnings\n",
        "warnings.filterwarnings(\"ignore\")"
      ],
      "metadata": {
        "id": "RrYshFe13jmO"
      },
      "execution_count": null,
      "outputs": []
    },
    {
      "cell_type": "code",
      "source": [
        "%%bash\n",
        "git clone https://github.com/janpeter19/BPL_CHO_Perfusion"
      ],
      "metadata": {
        "id": "RfWPh1B63yBF",
        "outputId": "617a3d51-48de-4191-bb78-22b7f455a937",
        "colab": {
          "base_uri": "https://localhost:8080/"
        }
      },
      "execution_count": null,
      "outputs": [
        {
          "output_type": "stream",
          "name": "stderr",
          "text": [
            "Cloning into 'BPL_CHO_Perfusion'...\n"
          ]
        }
      ]
    },
    {
      "cell_type": "code",
      "source": [
        "%cd BPL_CHO_Perfusion"
      ],
      "metadata": {
        "id": "i6uOVB44300a",
        "outputId": "350e6493-c9bb-4dac-a518-1f484825e67d",
        "colab": {
          "base_uri": "https://localhost:8080/"
        }
      },
      "execution_count": null,
      "outputs": [
        {
          "output_type": "stream",
          "name": "stdout",
          "text": [
            "/content/BPL_CHO_Perfusion\n"
          ]
        }
      ]
    },
    {
      "cell_type": "markdown",
      "source": [
        "# BPL_CHO_Perfusion_cspr_openloop - demo\n",
        "\n",
        "Author: Jan Peter Axelson\n",
        "\n",
        "\n"
      ],
      "metadata": {
        "id": "dsjD0XLpQysI"
      }
    },
    {
      "cell_type": "code",
      "source": [
        "run -i BPL_CHO_perfusion_cspr_openloop_explore.py"
      ],
      "metadata": {
        "id": "b-y82jZY33cO",
        "outputId": "539e99c9-685c-447a-b9dd-4a9ed332b8f9",
        "colab": {
          "base_uri": "https://localhost:8080/",
          "height": 211
        }
      },
      "execution_count": null,
      "outputs": [
        {
          "output_type": "error",
          "ename": "ModuleNotFoundError",
          "evalue": "No module named 'pyfmi'",
          "traceback": [
            "\u001b[0;31m---------------------------------------------------------------------------\u001b[0m",
            "\u001b[0;31mModuleNotFoundError\u001b[0m                       Traceback (most recent call last)",
            "\u001b[0;32m/content/BPL_CHO_Perfusion/BPL_CHO_perfusion_cspr_openloop_explore.py\u001b[0m in \u001b[0;36m<module>\u001b[0;34m\u001b[0m\n\u001b[1;32m     62\u001b[0m \u001b[0;32mimport\u001b[0m \u001b[0mzipfile\u001b[0m\u001b[0;34m\u001b[0m\u001b[0;34m\u001b[0m\u001b[0m\n\u001b[1;32m     63\u001b[0m \u001b[0;34m\u001b[0m\u001b[0m\n\u001b[0;32m---> 64\u001b[0;31m \u001b[0;32mfrom\u001b[0m \u001b[0mpyfmi\u001b[0m \u001b[0;32mimport\u001b[0m \u001b[0mload_fmu\u001b[0m\u001b[0;34m\u001b[0m\u001b[0;34m\u001b[0m\u001b[0m\n\u001b[0m\u001b[1;32m     65\u001b[0m \u001b[0;32mfrom\u001b[0m \u001b[0mpyfmi\u001b[0m\u001b[0;34m.\u001b[0m\u001b[0mfmi\u001b[0m \u001b[0;32mimport\u001b[0m \u001b[0mFMUException\u001b[0m\u001b[0;34m\u001b[0m\u001b[0;34m\u001b[0m\u001b[0m\n\u001b[1;32m     66\u001b[0m \u001b[0;34m\u001b[0m\u001b[0m\n",
            "\u001b[0;31mModuleNotFoundError\u001b[0m: No module named 'pyfmi'"
          ]
        }
      ]
    },
    {
      "cell_type": "code",
      "source": [
        "%matplotlib inline\n",
        "plt.rcParams['figure.figsize'] = [25/2.54, 20/2.54]"
      ],
      "metadata": {
        "id": "HUFhuE-H4RCw"
      },
      "execution_count": null,
      "outputs": []
    },
    {
      "cell_type": "markdown",
      "source": [
        "## 1 About the process model\n",
        "\n",
        "We can get information about the process and liquid phase by the command describe(). Here is no gas-phase included. This command can also be used to bring up information about a specific variable or parameter. However, you should use describe() after a simulation to get the valued used during the simulation."
      ],
      "metadata": {
        "id": "dx9oMnP0RJkM"
      }
    },
    {
      "cell_type": "code",
      "source": [
        "process_diagram()"
      ],
      "metadata": {
        "id": "3P0yJq2W8Ca6",
        "outputId": "cfd2adf7-fc59-456c-8dbc-1ad8c778f430",
        "colab": {
          "base_uri": "https://localhost:8080/",
          "height": 141
        }
      },
      "execution_count": null,
      "outputs": [
        {
          "output_type": "error",
          "ename": "NameError",
          "evalue": "name 'process_diagram' is not defined",
          "traceback": [
            "\u001b[0;31m---------------------------------------------------------------------------\u001b[0m",
            "\u001b[0;31mNameError\u001b[0m                                 Traceback (most recent call last)",
            "\u001b[0;32m/content/BPL_CHO_Perfusion/BPL_CHO_perfusion_cspr_openloop_explore.py\u001b[0m in \u001b[0;36m<cell line: 1>\u001b[0;34m()\u001b[0m\n\u001b[0;32m----> 1\u001b[0;31m \u001b[0mprocess_diagram\u001b[0m\u001b[0;34m(\u001b[0m\u001b[0;34m)\u001b[0m\u001b[0;34m\u001b[0m\u001b[0;34m\u001b[0m\u001b[0m\n\u001b[0m",
            "\u001b[0;31mNameError\u001b[0m: name 'process_diagram' is not defined"
          ]
        }
      ]
    },
    {
      "cell_type": "code",
      "source": [
        "describe('culture'); print(); #describe('liquidphase')                                  # Pump schedule parameter\n"
      ],
      "metadata": {
        "id": "-Y3NHWIj4TZ6"
      },
      "execution_count": null,
      "outputs": []
    },
    {
      "cell_type": "markdown",
      "source": [
        "The molecular weight of the recombinant protein (MAb) is somewhat arbitrarly chosen and the value not used in the simulations."
      ],
      "metadata": {
        "id": "Ywb8yKJ-I3PJ"
      }
    },
    {
      "cell_type": "code",
      "source": [],
      "metadata": {
        "id": "LIjujJu9vqLn"
      },
      "execution_count": null,
      "outputs": []
    },
    {
      "cell_type": "code",
      "source": [
        "describe('MSL')"
      ],
      "metadata": {
        "id": "Ze_Kl3qLQhHX"
      },
      "execution_count": null,
      "outputs": []
    },
    {
      "cell_type": "code",
      "source": [
        "newplot('Perfusion cultivation', plotType='Extended')\n",
        "\n",
        "par(samplePeriod=1); par(F1=0.0020)              # General parameters\n",
        "par(mu_ref=0.04); simu()                         # First simulation (solid)\n",
        "par(mu_ref=1); simu()                            # Second simulation (dashed)"
      ],
      "metadata": {
        "id": "ypXmCF08vsEs"
      },
      "execution_count": null,
      "outputs": []
    },
    {
      "cell_type": "code",
      "source": [
        "model_get('CSPR')"
      ],
      "metadata": {
        "id": "BPDyKc4CvyOR"
      },
      "execution_count": null,
      "outputs": []
    },
    {
      "cell_type": "markdown",
      "source": [
        "We see here the shorter settling time for cell conc Xv when the slower exponential increase of perfusion rate is used, compared to an abrupt change."
      ],
      "metadata": {
        "id": "3UzxrhzRv7DB"
      }
    },
    {
      "cell_type": "code",
      "source": [
        "newplot('Perfusion cultivation', plotType='Extended')\n",
        "\n",
        "par(samplePeriod=1); par(F1=0.0080)               # General parameters\n",
        "par(mu_ref=0.04); simu()                          # First simulation (solid)\n",
        "par(mu_ref=1); simu()                             # Second simulation (dashed)"
      ],
      "metadata": {
        "id": "5JzLHuRQv2Rz"
      },
      "execution_count": null,
      "outputs": []
    },
    {
      "cell_type": "markdown",
      "source": [
        "We see that a somewhat smaller change in perfusion rate make the differnce in settling time of Xv for the two strategies to almost disappear."
      ],
      "metadata": {
        "id": "E2eu7VQjwBg9"
      }
    },
    {
      "cell_type": "code",
      "source": [
        "newplot('Perfusion cultivation', plotType='Extended')\n",
        "simu(600)\n",
        "simu(400,'cont')"
      ],
      "metadata": {
        "id": "z9MxpebqwEik"
      },
      "execution_count": null,
      "outputs": []
    },
    {
      "cell_type": "code",
      "source": [
        " describe('feedtank.W')"
      ],
      "metadata": {
        "id": "n9qJk4kEy4lW"
      },
      "execution_count": null,
      "outputs": []
    },
    {
      "cell_type": "code",
      "source": [
        "describe('feedtank.V')"
      ],
      "metadata": {
        "id": "6lhzcqAwy7Z8"
      },
      "execution_count": null,
      "outputs": []
    },
    {
      "cell_type": "code",
      "source": [
        "78.915/78.577"
      ],
      "metadata": {
        "id": "q21Fj2nXFXw8"
      },
      "execution_count": null,
      "outputs": []
    },
    {
      "cell_type": "code",
      "source": [
        "describe('bioreactor.broth_decay.k_decay')"
      ],
      "metadata": {
        "id": "hCQeMPf0zDnj"
      },
      "execution_count": null,
      "outputs": []
    },
    {
      "cell_type": "code",
      "source": [
        "describe('k_lysis')"
      ],
      "metadata": {
        "id": "L-mLOxouzIbg"
      },
      "execution_count": null,
      "outputs": []
    },
    {
      "cell_type": "code",
      "source": [
        "disp('culture')"
      ],
      "metadata": {
        "id": "Wh9KwbRXzO0M"
      },
      "execution_count": null,
      "outputs": []
    },
    {
      "cell_type": "code",
      "source": [
        "describe('mu')"
      ],
      "metadata": {
        "id": "Vm9aZycFzTdN"
      },
      "execution_count": null,
      "outputs": []
    },
    {
      "cell_type": "code",
      "source": [
        "describe('parts')"
      ],
      "metadata": {
        "id": "PvsHCc7qzYYc"
      },
      "execution_count": null,
      "outputs": []
    },
    {
      "cell_type": "code",
      "source": [
        "describe('MSL')"
      ],
      "metadata": {
        "id": "05Dfphpwzb-I"
      },
      "execution_count": null,
      "outputs": []
    },
    {
      "cell_type": "code",
      "source": [
        "system_info()"
      ],
      "metadata": {
        "id": "fr8YZScu7nNy"
      },
      "execution_count": null,
      "outputs": []
    },
    {
      "cell_type": "code",
      "source": [],
      "metadata": {
        "id": "FHx0NsS47ppj"
      },
      "execution_count": null,
      "outputs": []
    }
  ]
}